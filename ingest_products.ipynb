{
 "cells": [
  {
   "cell_type": "markdown",
   "metadata": {},
   "source": [
    "# Getting some python libraries setup\n",
    "*italicized text*#### Step 1: Environment setup\n",
    "\n",
    "First let us import some Python libraries"
   ]
  },
  {
   "cell_type": "code",
   "execution_count": 1,
   "metadata": {},
   "outputs": [
    {
     "name": "stdout",
     "output_type": "stream",
     "text": [
      "Requirement already satisfied: pip in /usr/local/lib/python3.11/site-packages (25.0)\n"
     ]
    }
   ],
   "source": [
    "! pip install --upgrade pip\n",
    "! pip install -q chromadb\n",
    "! pip install -q langchain\n",
    "! pip install -q torch\n",
    "! pip install -q InstructorEmbedding\n",
    "! pip install -q sentence_transformers\n",
    "! pip install -q pandas"
   ]
  },
  {
   "cell_type": "markdown",
   "metadata": {},
   "source": [
    "# Generate and Ingest \"product\" embeddings into Vector DB\n",
    "\n",
    "Uses Chroma DB and LangChain with a locally persisted database. \n",
    "Store embeddings and documents, then use them again later."
   ]
  },
  {
   "cell_type": "code",
   "execution_count": 3,
   "metadata": {},
   "outputs": [],
   "source": [
    "from langchain.vectorstores import Chroma\n",
    "from langchain.embeddings import HuggingFaceInstructEmbeddings\n",
    "from langchain.document_loaders import telegram\n"
   ]
  },
  {
   "cell_type": "markdown",
   "metadata": {},
   "source": [
    "# Load and process documents\n",
    "\n",
    "Next we split documents into small chunks. This is so we can find the most relevant chunks for a query and pass only those into the LLM."
   ]
  },
  {
   "cell_type": "markdown",
   "metadata": {},
   "source": [
    "## Load and initialize the instructor model\n"
   ]
  },
  {
   "cell_type": "code",
   "execution_count": 9,
   "metadata": {},
   "outputs": [
    {
     "name": "stdout",
     "output_type": "stream",
     "text": [
      "load INSTRUCTOR_Transformer\n",
      "max_seq_length  512\n"
     ]
    }
   ],
   "source": [
    "EMBEDDING_MODEL_NAME = \"hkunlp/instructor-large\"\n",
    "device_type = \"cpu\"\n",
    "embeddings = HuggingFaceInstructEmbeddings(\n",
    "    model_name=EMBEDDING_MODEL_NAME,\n",
    "    model_kwargs={\"device\": device_type},\n",
    ")"
   ]
  },
  {
   "cell_type": "markdown",
   "metadata": {},
   "source": [
    "## Take the CSV file. Pick the chunks. Generate embeddings. Then persist into Chroma DB (vector database).\n"
   ]
  },
  {
   "cell_type": "code",
   "execution_count": 7,
   "metadata": {},
   "outputs": [
    {
     "name": "stdout",
     "output_type": "stream",
     "text": [
      "10\n",
      "10\n",
      "10\n",
      "10\n",
      "10\n",
      "10\n",
      "10\n",
      "10\n",
      "10\n",
      "9\n"
     ]
    }
   ],
   "source": [
    "# Embed and store the texts\n",
    "# Supplying a persist_directory will store the embeddings on disk\n",
    "\n",
    "from chromadb.config import Settings\n",
    "PERSIST_DIRECTORY = 'db'\n",
    "CHROMA_SETTINGS = Settings(\n",
    "    anonymized_telemetry=False,\n",
    "    is_persistent=True,\n",
    ")\n",
    "\n",
    "import pandas as pd\n",
    "chunksize = 10\n",
    "for chunk in pd.read_csv('products_export_xs.csv', chunksize=chunksize):\n",
    "    chunk_as_list = chunk.to_string().split('\\n')[1:]\n",
    "    print(len(chunk_as_list))\n",
    "    documents = telegram.text_to_docs(chunk_as_list)\n",
    "    vectordb = Chroma.from_documents(documents=documents, embedding=embeddings, persist_directory=PERSIST_DIRECTORY, client_settings=CHROMA_SETTINGS)\n",
    "    vectordb = None"
   ]
  },
  {
   "cell_type": "markdown",
   "metadata": {},
   "source": [
    "\n",
    "\n",
    "==================================================================================================================================================\n",
    "==================================================================================================================================================\n",
    "## CLEANUP the db or specific collection(s)"
   ]
  },
  {
   "cell_type": "code",
   "execution_count": 8,
   "metadata": {},
   "outputs": [],
   "source": [
    "# To cleanup, you can delete the collection\n",
    "#vectordb.delete_collection()\n",
    "#vectordb.persist()\n",
    "\n",
    "# Or just nuke the persist directory\n",
    "#!rm -rf db/"
   ]
  },
  {
   "cell_type": "code",
   "execution_count": null,
   "metadata": {},
   "outputs": [],
   "source": []
  }
 ],
 "metadata": {
  "kernelspec": {
   "display_name": "Python (kr-products-vector)",
   "language": "python",
   "name": "kr-products-vector"
  },
  "language_info": {
   "codemirror_mode": {
    "name": "ipython",
    "version": 3
   },
   "file_extension": ".py",
   "mimetype": "text/x-python",
   "name": "python",
   "nbconvert_exporter": "python",
   "pygments_lexer": "ipython3",
   "version": "3.11.5"
  },
  "vscode": {
   "interpreter": {
    "hash": "c909e91d0cd7642213937968dfc91c71973575965f56cdcabb1e0b29abe5f7fa"
   }
  }
 },
 "nbformat": 4,
 "nbformat_minor": 4
}
